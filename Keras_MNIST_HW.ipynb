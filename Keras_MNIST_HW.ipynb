{
  "cells": [
    {
      "cell_type": "markdown",
      "metadata": {
        "id": "QuL33p8zqspP"
      },
      "source": [
        "## Handwritten Image Detection with Keras using MNIST data\n",
        "\n",
        "In this exercise we will work with image data: specifically the famous MNIST data set.  This data set contains 70,000 images of handwritten digits in grayscale (0=black, 255 = white).  The images are 28 pixels by 28 pixels for a total of 784 pixels.  This is quite small by image standards.  Also, the images are well centered and isolated.  This makes this problem solvable with standard fully connected neural nets without too much pre-work."
      ]
    },
    {
      "cell_type": "markdown",
      "metadata": {
        "id": "SoBrZl8kqspU"
      },
      "source": [
        "In the first part of this notebook, we will walk you through loading in the data, building a network, and training it.  Then it will be your turn to try different models and see if you can improve performance"
      ]
    },
    {
      "cell_type": "code",
      "execution_count": 17,
      "metadata": {
        "id": "JP51FHKPqspU"
      },
      "outputs": [],
      "source": [
        "# Preliminaries\n",
        "\n",
        "from __future__ import print_function\n",
        "\n",
        "import keras\n",
        "import tensorflow\n",
        "from keras.datasets import mnist\n",
        "from keras.models import Sequential\n",
        "from keras.layers import Dense, Dropout\n",
        "from tensorflow.keras.optimizers import RMSprop\n",
        "\n",
        "import numpy as np\n",
        "import matplotlib.pyplot as plt\n",
        "%matplotlib inline"
      ]
    },
    {
      "cell_type": "markdown",
      "metadata": {
        "collapsed": true,
        "id": "lQKsFhnKqspW"
      },
      "source": [
        "Let's explore the dataset a little bit"
      ]
    },
    {
      "cell_type": "code",
      "execution_count": 7,
      "metadata": {
        "colab": {
          "base_uri": "https://localhost:8080/"
        },
        "id": "tI2mGyAYqspX",
        "outputId": "294df21a-801d-4877-8dfb-2c38999947fc"
      },
      "outputs": [
        {
          "output_type": "stream",
          "name": "stdout",
          "text": [
            "Downloading data from https://storage.googleapis.com/tensorflow/tf-keras-datasets/mnist.npz\n",
            "11493376/11490434 [==============================] - 0s 0us/step\n",
            "11501568/11490434 [==============================] - 0s 0us/step\n"
          ]
        }
      ],
      "source": [
        "# Load the data, shuffled and split between train and test sets\n",
        "(x_train, y_train), (x_test, y_test) = mnist.load_data()"
      ]
    },
    {
      "cell_type": "code",
      "execution_count": 8,
      "metadata": {
        "colab": {
          "base_uri": "https://localhost:8080/"
        },
        "id": "RHUUQAwCqspX",
        "outputId": "f2190ec1-bc07-4adc-b55b-ed8d0964b0c8"
      },
      "outputs": [
        {
          "output_type": "execute_result",
          "data": {
            "text/plain": [
              "(28, 28)"
            ]
          },
          "metadata": {},
          "execution_count": 8
        }
      ],
      "source": [
        "x_train[0].shape"
      ]
    },
    {
      "cell_type": "code",
      "execution_count": 10,
      "metadata": {
        "colab": {
          "base_uri": "https://localhost:8080/"
        },
        "id": "CCp5yfIMqspZ",
        "outputId": "3448d22d-edcb-484e-bc38-88bfd2ec2db4"
      },
      "outputs": [
        {
          "output_type": "execute_result",
          "data": {
            "text/plain": [
              "array([[  0,   0,   0,   0,   0,   0,   0,   0,   0,   0,   0,   0,   0,\n",
              "          0,   0,   0,   0,   0,   0,   0,   0,   0,   0,   0,   0,   0,\n",
              "          0,   0],\n",
              "       [  0,   0,   0,   0,   0,   0,   0,   0,   0,   0,   0,   0,   0,\n",
              "          0,   0,   0,   0,   0,   0,   0,   0,   0,   0,   0,   0,   0,\n",
              "          0,   0],\n",
              "       [  0,   0,   0,   0,   0,   0,   0,   0,   0,   0,   0,   0,   0,\n",
              "          0,   0,   0,   0,   0,   0,   0,   0,   0,   0,   0,   0,   0,\n",
              "          0,   0],\n",
              "       [  0,   0,   0,   0,   0,   0,   0,   0,   0,   0,   0,   0,   0,\n",
              "          0,   0,   0,   0,   0,   0,   0,   0,   0,   0,   0,   0,   0,\n",
              "          0,   0],\n",
              "       [  0,   0,   0,   0,   0,   0,   0,   0,   0,   0,   0,   0,   0,\n",
              "          0,   0,   0,   0,   0,   0,   0,   0,   0,   0,   0,   0,   0,\n",
              "          0,   0],\n",
              "       [  0,   0,   0,   0,   0,   0,   0,   0,   0,   0,   0,  87, 138,\n",
              "        170, 253, 201, 244, 212, 222, 138,  86,  22,   0,   0,   0,   0,\n",
              "          0,   0],\n",
              "       [  0,   0,   0,   0,   0,   0,   0,   0,   0,   0,  95, 253, 252,\n",
              "        252, 252, 252, 253, 252, 252, 252, 252, 245,  80,   0,   0,   0,\n",
              "          0,   0],\n",
              "       [  0,   0,   0,   0,   0,   0,   0,   0,   0,  68, 246, 205,  69,\n",
              "         69,  69,  69,  69,  69,  69,  69, 205, 253, 240,  50,   0,   0,\n",
              "          0,   0],\n",
              "       [  0,   0,   0,   0,   0,   0,   0,   0,   0, 187, 252, 218,  34,\n",
              "          0,   0,   0,   0,   0,   0,   0, 116, 253, 252,  69,   0,   0,\n",
              "          0,   0],\n",
              "       [  0,   0,   0,   0,   0,   0,   0,   0, 116, 248, 252, 253,  92,\n",
              "          0,   0,   0,   0,   0,   0,  95, 230, 253, 157,   6,   0,   0,\n",
              "          0,   0],\n",
              "       [  0,   0,   0,   0,   0,   0,   0,   0, 116, 249, 253, 189,  42,\n",
              "          0,   0,   0,   0,  36, 170, 253, 243, 158,   0,   0,   0,   0,\n",
              "          0,   0],\n",
              "       [  0,   0,   0,   0,   0,   0,   0,   0,   0, 133, 252, 245, 140,\n",
              "         34,   0,   0,  57, 219, 252, 235,  60,   0,   0,   0,   0,   0,\n",
              "          0,   0],\n",
              "       [  0,   0,   0,   0,   0,   0,   0,   0,   0,  25, 205, 253, 252,\n",
              "        234, 184, 184, 253, 240, 100,  44,   0,   0,   0,   0,   0,   0,\n",
              "          0,   0],\n",
              "       [  0,   0,   0,   0,   0,   0,   0,   0,   0,   0,  21, 161, 219,\n",
              "        252, 252, 252, 234,  37,   0,   0,   0,   0,   0,   0,   0,   0,\n",
              "          0,   0],\n",
              "       [  0,   0,   0,   0,   0,   0,   0,   0,   0,   0,   0,  11, 203,\n",
              "        252, 252, 252, 251, 135,   0,   0,   0,   0,   0,   0,   0,   0,\n",
              "          0,   0],\n",
              "       [  0,   0,   0,   0,   0,   0,   0,   0,   0,   9,  76, 255, 253,\n",
              "        205, 168, 220, 255, 253, 137,   5,   0,   0,   0,   0,   0,   0,\n",
              "          0,   0],\n",
              "       [  0,   0,   0,   0,   0,   0,   0,   0,   0, 114, 252, 249, 132,\n",
              "         25,   0,   0, 180, 252, 252,  45,   0,   0,   0,   0,   0,   0,\n",
              "          0,   0],\n",
              "       [  0,   0,   0,   0,   0,   0,   0,   0,  51, 220, 252, 199,   0,\n",
              "          0,   0,   0,  38, 186, 252, 154,   7,   0,   0,   0,   0,   0,\n",
              "          0,   0],\n",
              "       [  0,   0,   0,   0,   0,   0,   0,   0, 184, 252, 252,  21,   0,\n",
              "          0,   0,   0,   0,  67, 252, 252,  22,   0,   0,   0,   0,   0,\n",
              "          0,   0],\n",
              "       [  0,   0,   0,   0,   0,   0,   0,   0, 184, 252, 200,   0,   0,\n",
              "          0,   0,   0,   0,  47, 252, 252,  22,   0,   0,   0,   0,   0,\n",
              "          0,   0],\n",
              "       [  0,   0,   0,   0,   0,   0,   0,   0, 185, 253, 201,   0,   0,\n",
              "          0,   0,   0,   3, 118, 253, 245,  21,   0,   0,   0,   0,   0,\n",
              "          0,   0],\n",
              "       [  0,   0,   0,   0,   0,   0,   0,   0, 163, 252, 252,   0,   0,\n",
              "          0,   0,   0,  97, 252, 252,  87,   0,   0,   0,   0,   0,   0,\n",
              "          0,   0],\n",
              "       [  0,   0,   0,   0,   0,   0,   0,   0,  51, 240, 252, 123,  70,\n",
              "         70, 112, 184, 222, 252, 170,  13,   0,   0,   0,   0,   0,   0,\n",
              "          0,   0],\n",
              "       [  0,   0,   0,   0,   0,   0,   0,   0,   0, 165, 252, 253, 252,\n",
              "        252, 252, 252, 245, 139,  13,   0,   0,   0,   0,   0,   0,   0,\n",
              "          0,   0],\n",
              "       [  0,   0,   0,   0,   0,   0,   0,   0,   0,   9,  75, 253, 252,\n",
              "        221, 137, 137,  21,   0,   0,   0,   0,   0,   0,   0,   0,   0,\n",
              "          0,   0],\n",
              "       [  0,   0,   0,   0,   0,   0,   0,   0,   0,   0,   0,   0,   0,\n",
              "          0,   0,   0,   0,   0,   0,   0,   0,   0,   0,   0,   0,   0,\n",
              "          0,   0],\n",
              "       [  0,   0,   0,   0,   0,   0,   0,   0,   0,   0,   0,   0,   0,\n",
              "          0,   0,   0,   0,   0,   0,   0,   0,   0,   0,   0,   0,   0,\n",
              "          0,   0],\n",
              "       [  0,   0,   0,   0,   0,   0,   0,   0,   0,   0,   0,   0,   0,\n",
              "          0,   0,   0,   0,   0,   0,   0,   0,   0,   0,   0,   0,   0,\n",
              "          0,   0]], dtype=uint8)"
            ]
          },
          "metadata": {},
          "execution_count": 10
        }
      ],
      "source": [
        "#Let's just look at a particular example to see what is inside\n",
        "\n",
        "x_train[333]  ## Just a 28 x 28 numpy array of ints from 0 to 255"
      ]
    },
    {
      "cell_type": "code",
      "execution_count": 11,
      "metadata": {
        "colab": {
          "base_uri": "https://localhost:8080/"
        },
        "id": "4fSkflrLqspZ",
        "outputId": "79ac70a4-d5e2-45f3-9f2b-41db4fb102b8"
      },
      "outputs": [
        {
          "output_type": "execute_result",
          "data": {
            "text/plain": [
              "8"
            ]
          },
          "metadata": {},
          "execution_count": 11
        }
      ],
      "source": [
        "# What is the corresponding label in the training set?\n",
        "y_train[333]"
      ]
    },
    {
      "cell_type": "code",
      "execution_count": 12,
      "metadata": {
        "colab": {
          "base_uri": "https://localhost:8080/",
          "height": 283
        },
        "id": "t2YgjJvWqspa",
        "outputId": "946ec82f-55c1-47ad-85d8-d8d04344fda2"
      },
      "outputs": [
        {
          "output_type": "execute_result",
          "data": {
            "text/plain": [
              "<matplotlib.image.AxesImage at 0x7fcc0e7b4350>"
            ]
          },
          "metadata": {},
          "execution_count": 12
        },
        {
          "output_type": "display_data",
          "data": {
            "image/png": "[encoded data removed]",
            "text/plain": [
              "<Figure size 432x288 with 1 Axes>"
            ]
          },
          "metadata": {
            "needs_background": "light"
          }
        }
      ],
      "source": [
        "# Let's see what this image actually looks like\n",
        "\n",
        "plt.imshow(x_train[333], cmap='Greys_r')"
      ]
    },
    {
      "cell_type": "code",
      "execution_count": 13,
      "metadata": {
        "colab": {
          "base_uri": "https://localhost:8080/"
        },
        "id": "B75QktDNqspb",
        "outputId": "4564ca53-9f7f-4594-8400-3c487129e1eb"
      },
      "outputs": [
        {
          "output_type": "stream",
          "name": "stdout",
          "text": [
            "(60000, 28, 28) train samples\n",
            "(10000, 28, 28) test samples\n"
          ]
        }
      ],
      "source": [
        "# this is the shape of the np.array x_train\n",
        "# it is 3 dimensional.\n",
        "print(x_train.shape, 'train samples')\n",
        "print(x_test.shape, 'test samples')"
      ]
    },
    {
      "cell_type": "code",
      "execution_count": 14,
      "metadata": {
        "id": "3ldAqW-Bqspb"
      },
      "outputs": [],
      "source": [
        "## For our purposes, these images are just a vector of 784 inputs, so let's convert\n",
        "x_train = x_train.reshape(len(x_train), 28*28)\n",
        "x_test = x_test.reshape(len(x_test), 28*28)\n",
        "\n",
        "## Keras works with floats, so we must cast the numbers to floats\n",
        "x_train = x_train.astype('float32')\n",
        "x_test = x_test.astype('float32')\n",
        "\n",
        "## Normalize the inputs so they are between 0 and 1\n",
        "x_train /= 255\n",
        "x_test /= 255\n"
      ]
    },
    {
      "cell_type": "code",
      "execution_count": 18,
      "metadata": {
        "colab": {
          "base_uri": "https://localhost:8080/"
        },
        "id": "UWwjQY0nqspc",
        "outputId": "135f69fb-a1de-417a-c2c9-11c6d175ba38"
      },
      "outputs": [
        {
          "output_type": "execute_result",
          "data": {
            "text/plain": [
              "array([0., 0., 0., 0., 0., 0., 0., 0., 1., 0.], dtype=float32)"
            ]
          },
          "metadata": {},
          "execution_count": 18
        }
      ],
      "source": [
        "# convert class vectors to binary class matrices\n",
        "num_classes = 10\n",
        "y_train = tensorflow.keras.utils.to_categorical(y_train, num_classes)\n",
        "y_test = tensorflow.keras.utils.to_categorical(y_test, num_classes)\n",
        "\n",
        "y_train[333]  # now the digit k is represented by a 1 in the kth entry (0-indexed) of the length 10 vector"
      ]
    },
    {
      "cell_type": "code",
      "execution_count": 19,
      "metadata": {
        "id": "cNIoJLYBqspc"
      },
      "outputs": [],
      "source": [
        "# We will build a model with two hidden layers of size 512\n",
        "# Fully connected inputs at each layer\n",
        "# We will use dropout of .2 to help regularize\n",
        "model_1 = Sequential()\n",
        "model_1.add(Dense(64, activation='relu', input_shape=(784,)))\n",
        "model_1.add(Dropout(0.2))\n",
        "model_1.add(Dense(64, activation='relu'))\n",
        "model_1.add(Dropout(0.2))\n",
        "model_1.add(Dense(10, activation='softmax'))"
      ]
    },
    {
      "cell_type": "code",
      "execution_count": 20,
      "metadata": {
        "colab": {
          "base_uri": "https://localhost:8080/"
        },
        "id": "JmDVjLQdqspd",
        "outputId": "9b44ea2b-a2d2-45ee-a3d5-7a1b9509e1d2"
      },
      "outputs": [
        {
          "output_type": "stream",
          "name": "stdout",
          "text": [
            "Model: \"sequential\"\n",
            "_________________________________________________________________\n",
            " Layer (type)                Output Shape              Param #   \n",
            "=================================================================\n",
            " dense (Dense)               (None, 64)                50240     \n",
            "                                                                 \n",
            " dropout (Dropout)           (None, 64)                0         \n",
            "                                                                 \n",
            " dense_1 (Dense)             (None, 64)                4160      \n",
            "                                                                 \n",
            " dropout_1 (Dropout)         (None, 64)                0         \n",
            "                                                                 \n",
            " dense_2 (Dense)             (None, 10)                650       \n",
            "                                                                 \n",
            "=================================================================\n",
            "Total params: 55,050\n",
            "Trainable params: 55,050\n",
            "Non-trainable params: 0\n",
            "_________________________________________________________________\n"
          ]
        }
      ],
      "source": [
        "## Note that this model has a LOT of parameters\n",
        "model_1.summary()"
      ]
    },
    {
      "cell_type": "code",
      "execution_count": 21,
      "metadata": {
        "colab": {
          "base_uri": "https://localhost:8080/"
        },
        "id": "EGD0Jpmqqspd",
        "outputId": "2ef9d7d1-f4ac-40df-929e-67539446aad3"
      },
      "outputs": [
        {
          "output_type": "stream",
          "name": "stderr",
          "text": [
            "/usr/local/lib/python3.7/dist-packages/keras/optimizer_v2/rmsprop.py:130: UserWarning: The `lr` argument is deprecated, use `learning_rate` instead.\n",
            "  super(RMSprop, self).__init__(name, **kwargs)\n"
          ]
        }
      ],
      "source": [
        "# Let's compile the model\n",
        "learning_rate = .001\n",
        "model_1.compile(loss='categorical_crossentropy',\n",
        "              optimizer=RMSprop(lr=learning_rate),\n",
        "              metrics=['accuracy'])\n",
        "# note that `categorical cross entropy` is the natural generalization \n",
        "# of the loss function we had in binary classification case, to multi class case"
      ]
    },
    {
      "cell_type": "code",
      "execution_count": 22,
      "metadata": {
        "colab": {
          "base_uri": "https://localhost:8080/"
        },
        "id": "YSG3tOowqspe",
        "outputId": "f28ae24b-29df-4923-f829-9f539f5c652b"
      },
      "outputs": [
        {
          "output_type": "stream",
          "name": "stdout",
          "text": [
            "Epoch 1/30\n",
            "469/469 [==============================] - 3s 4ms/step - loss: 0.5298 - accuracy: 0.8419 - val_loss: 0.2082 - val_accuracy: 0.9360\n",
            "Epoch 2/30\n",
            "469/469 [==============================] - 2s 4ms/step - loss: 0.2545 - accuracy: 0.9251 - val_loss: 0.1557 - val_accuracy: 0.9508\n",
            "Epoch 3/30\n",
            "469/469 [==============================] - 2s 4ms/step - loss: 0.2073 - accuracy: 0.9394 - val_loss: 0.1301 - val_accuracy: 0.9607\n",
            "Epoch 4/30\n",
            "469/469 [==============================] - 2s 4ms/step - loss: 0.1775 - accuracy: 0.9474 - val_loss: 0.1206 - val_accuracy: 0.9639\n",
            "Epoch 5/30\n",
            "469/469 [==============================] - 2s 4ms/step - loss: 0.1613 - accuracy: 0.9520 - val_loss: 0.1135 - val_accuracy: 0.9661\n",
            "Epoch 6/30\n",
            "469/469 [==============================] - 2s 4ms/step - loss: 0.1481 - accuracy: 0.9571 - val_loss: 0.1061 - val_accuracy: 0.9674\n",
            "Epoch 7/30\n",
            "469/469 [==============================] - 2s 4ms/step - loss: 0.1401 - accuracy: 0.9579 - val_loss: 0.1017 - val_accuracy: 0.9704\n",
            "Epoch 8/30\n",
            "469/469 [==============================] - 2s 4ms/step - loss: 0.1295 - accuracy: 0.9616 - val_loss: 0.0990 - val_accuracy: 0.9702\n",
            "Epoch 9/30\n",
            "469/469 [==============================] - 2s 4ms/step - loss: 0.1232 - accuracy: 0.9638 - val_loss: 0.0955 - val_accuracy: 0.9721\n",
            "Epoch 10/30\n",
            "469/469 [==============================] - 2s 4ms/step - loss: 0.1202 - accuracy: 0.9643 - val_loss: 0.1012 - val_accuracy: 0.9705\n",
            "Epoch 11/30\n",
            "469/469 [==============================] - 2s 4ms/step - loss: 0.1150 - accuracy: 0.9661 - val_loss: 0.0960 - val_accuracy: 0.9725\n",
            "Epoch 12/30\n",
            "469/469 [==============================] - 2s 4ms/step - loss: 0.1129 - accuracy: 0.9671 - val_loss: 0.0995 - val_accuracy: 0.9722\n",
            "Epoch 13/30\n",
            "469/469 [==============================] - 2s 4ms/step - loss: 0.1082 - accuracy: 0.9685 - val_loss: 0.1009 - val_accuracy: 0.9719\n",
            "Epoch 14/30\n",
            "469/469 [==============================] - 2s 4ms/step - loss: 0.1041 - accuracy: 0.9692 - val_loss: 0.0979 - val_accuracy: 0.9745\n",
            "Epoch 15/30\n",
            "469/469 [==============================] - 2s 4ms/step - loss: 0.1022 - accuracy: 0.9697 - val_loss: 0.0943 - val_accuracy: 0.9741\n",
            "Epoch 16/30\n",
            "469/469 [==============================] - 2s 4ms/step - loss: 0.0977 - accuracy: 0.9712 - val_loss: 0.1001 - val_accuracy: 0.9748\n",
            "Epoch 17/30\n",
            "469/469 [==============================] - 2s 4ms/step - loss: 0.0958 - accuracy: 0.9715 - val_loss: 0.0991 - val_accuracy: 0.9762\n",
            "Epoch 18/30\n",
            "469/469 [==============================] - 2s 4ms/step - loss: 0.0955 - accuracy: 0.9716 - val_loss: 0.0991 - val_accuracy: 0.9755\n",
            "Epoch 19/30\n",
            "469/469 [==============================] - 2s 4ms/step - loss: 0.0913 - accuracy: 0.9724 - val_loss: 0.1010 - val_accuracy: 0.9752\n",
            "Epoch 20/30\n",
            "469/469 [==============================] - 2s 4ms/step - loss: 0.0918 - accuracy: 0.9725 - val_loss: 0.1012 - val_accuracy: 0.9763\n",
            "Epoch 21/30\n",
            "469/469 [==============================] - 2s 4ms/step - loss: 0.0908 - accuracy: 0.9728 - val_loss: 0.1004 - val_accuracy: 0.9756\n",
            "Epoch 22/30\n",
            "469/469 [==============================] - 2s 4ms/step - loss: 0.0903 - accuracy: 0.9732 - val_loss: 0.1019 - val_accuracy: 0.9753\n",
            "Epoch 23/30\n",
            "469/469 [==============================] - 2s 4ms/step - loss: 0.0883 - accuracy: 0.9742 - val_loss: 0.1023 - val_accuracy: 0.9752\n",
            "Epoch 24/30\n",
            "469/469 [==============================] - 2s 4ms/step - loss: 0.0881 - accuracy: 0.9742 - val_loss: 0.0995 - val_accuracy: 0.9763\n",
            "Epoch 25/30\n",
            "469/469 [==============================] - 2s 4ms/step - loss: 0.0833 - accuracy: 0.9753 - val_loss: 0.1022 - val_accuracy: 0.9756\n",
            "Epoch 26/30\n",
            "469/469 [==============================] - 2s 4ms/step - loss: 0.0855 - accuracy: 0.9747 - val_loss: 0.1022 - val_accuracy: 0.9766\n",
            "Epoch 27/30\n",
            "469/469 [==============================] - 2s 4ms/step - loss: 0.0867 - accuracy: 0.9746 - val_loss: 0.1063 - val_accuracy: 0.9759\n",
            "Epoch 28/30\n",
            "469/469 [==============================] - 2s 4ms/step - loss: 0.0850 - accuracy: 0.9760 - val_loss: 0.1079 - val_accuracy: 0.9748\n",
            "Epoch 29/30\n",
            "469/469 [==============================] - 2s 4ms/step - loss: 0.0827 - accuracy: 0.9759 - val_loss: 0.1082 - val_accuracy: 0.9772\n",
            "Epoch 30/30\n",
            "469/469 [==============================] - 2s 4ms/step - loss: 0.0838 - accuracy: 0.9755 - val_loss: 0.1083 - val_accuracy: 0.9765\n"
          ]
        }
      ],
      "source": [
        "# And now let's fit.\n",
        "\n",
        "batch_size = 128  # mini-batch with 128 examples\n",
        "epochs = 30\n",
        "history = model_1.fit(\n",
        "    x_train, y_train,\n",
        "    batch_size=batch_size,\n",
        "    epochs=epochs,\n",
        "    verbose=1,\n",
        "    validation_data=(x_test, y_test))"
      ]
    },
    {
      "cell_type": "code",
      "execution_count": 23,
      "metadata": {
        "colab": {
          "base_uri": "https://localhost:8080/"
        },
        "id": "6m-fYp0oqspe",
        "outputId": "c05b2c68-5460-4271-e496-c28563941fb0"
      },
      "outputs": [
        {
          "output_type": "stream",
          "name": "stdout",
          "text": [
            "Test loss: 0.1083405613899231\n",
            "Test accuracy: 0.9764999747276306\n"
          ]
        }
      ],
      "source": [
        "## We will use Keras evaluate function to evaluate performance on the test set\n",
        "\n",
        "score = model_1.evaluate(x_test, y_test, verbose=0)\n",
        "print('Test loss:', score[0])\n",
        "print('Test accuracy:', score[1])"
      ]
    },
    {
      "cell_type": "code",
      "execution_count": 24,
      "metadata": {
        "colab": {
          "base_uri": "https://localhost:8080/",
          "height": 390
        },
        "id": "RJZDcVkXqspf",
        "outputId": "980581b6-4ae7-4919-e6ad-7255f5d76941"
      },
      "outputs": [
        {
          "output_type": "display_data",
          "data": {
            "image/png": "[encoded data removed]",
            "text/plain": [
              "<Figure size 864x432 with 2 Axes>"
            ]
          },
          "metadata": {
            "needs_background": "light"
          }
        }
      ],
      "source": [
        "def plot_loss_accuracy(history):\n",
        "    fig = plt.figure(figsize=(12, 6))\n",
        "    ax = fig.add_subplot(1, 2, 1)\n",
        "    ax.plot(history.history[\"loss\"],'r-x', label=\"Train Loss\")\n",
        "    ax.plot(history.history[\"val_loss\"],'b-x', label=\"Validation Loss\")\n",
        "    ax.legend()\n",
        "    ax.set_title('cross_entropy loss')\n",
        "    ax.grid(True)\n",
        "\n",
        "\n",
        "    ax = fig.add_subplot(1, 2, 2)\n",
        "    ax.plot(history.history[\"accuracy\"],'r-x', label=\"Train Accuracy\")\n",
        "    ax.plot(history.history[\"val_accuracy\"],'b-x', label=\"Validation Accuracy\")\n",
        "    ax.legend()\n",
        "    ax.set_title('accuracy')\n",
        "    ax.grid(True)\n",
        "    \n",
        "\n",
        "plot_loss_accuracy(history)"
      ]
    },
    {
      "cell_type": "markdown",
      "metadata": {
        "id": "qdO3jATmqspf"
      },
      "source": [
        "This is reasonably good performance, but we can do even better!  Next you will build an even bigger network and compare the performance."
      ]
    },
    {
      "cell_type": "markdown",
      "metadata": {
        "id": "rPkM_D-Bqspf"
      },
      "source": [
        "## Exercise\n",
        "### Your Turn: Build your own model\n",
        "Use the Keras \"Sequential\" functionality to build `model_2` with the following specifications:\n",
        "\n",
        "1. Two hidden layers.\n",
        "2. First hidden layer of size 400 and second of size 300\n",
        "3. Dropout of .4 at each layer\n",
        "4. How many parameters does your model have?  How does it compare with the previous model?\n",
        "4. Train this model for 20 epochs with RMSProp at a learning rate of .001 and a batch size of 128\n",
        "\n",
        "\n"
      ]
    },
    {
      "cell_type": "code",
      "execution_count": 25,
      "metadata": {
        "id": "8uKhvAhJqspg"
      },
      "outputs": [],
      "source": [
        "### Build your model here\n",
        "model_2 = Sequential()\n",
        "model_2.add(Dense(400, activation='relu', input_shape=(784,)))\n",
        "model_2.add(Dropout(0.4))\n",
        "model_2.add(Dense(300, activation='relu'))\n",
        "model_2.add(Dropout(0.4))\n",
        "model_2.add(Dense(10, activation='softmax'))"
      ]
    },
    {
      "cell_type": "code",
      "execution_count": 26,
      "metadata": {
        "colab": {
          "base_uri": "https://localhost:8080/"
        },
        "id": "BifeUK66qspg",
        "outputId": "a8a59352-7826-4d4b-ff61-20d0492468fb"
      },
      "outputs": [
        {
          "output_type": "stream",
          "name": "stdout",
          "text": [
            "Model: \"sequential_1\"\n",
            "_________________________________________________________________\n",
            " Layer (type)                Output Shape              Param #   \n",
            "=================================================================\n",
            " dense_3 (Dense)             (None, 400)               314000    \n",
            "                                                                 \n",
            " dropout_2 (Dropout)         (None, 400)               0         \n",
            "                                                                 \n",
            " dense_4 (Dense)             (None, 300)               120300    \n",
            "                                                                 \n",
            " dropout_3 (Dropout)         (None, 300)               0         \n",
            "                                                                 \n",
            " dense_5 (Dense)             (None, 10)                3010      \n",
            "                                                                 \n",
            "=================================================================\n",
            "Total params: 437,310\n",
            "Trainable params: 437,310\n",
            "Non-trainable params: 0\n",
            "_________________________________________________________________\n"
          ]
        }
      ],
      "source": [
        "model_2.summary()"
      ]
    },
    {
      "cell_type": "code",
      "execution_count": 27,
      "metadata": {
        "colab": {
          "base_uri": "https://localhost:8080/"
        },
        "id": "iM0RtchXqspg",
        "outputId": "43f38482-a4ae-41b7-85d1-dd2a8522961b"
      },
      "outputs": [
        {
          "output_type": "stream",
          "name": "stderr",
          "text": [
            "/usr/local/lib/python3.7/dist-packages/keras/optimizer_v2/rmsprop.py:130: UserWarning: The `lr` argument is deprecated, use `learning_rate` instead.\n",
            "  super(RMSprop, self).__init__(name, **kwargs)\n"
          ]
        },
        {
          "output_type": "stream",
          "name": "stdout",
          "text": [
            "Epoch 1/20\n",
            "469/469 [==============================] - 7s 14ms/step - loss: 0.3252 - accuracy: 0.9007 - val_loss: 0.1232 - val_accuracy: 0.9639\n",
            "Epoch 2/20\n",
            "469/469 [==============================] - 6s 13ms/step - loss: 0.1506 - accuracy: 0.9554 - val_loss: 0.0956 - val_accuracy: 0.9711\n",
            "Epoch 3/20\n",
            "469/469 [==============================] - 6s 13ms/step - loss: 0.1187 - accuracy: 0.9653 - val_loss: 0.0825 - val_accuracy: 0.9754\n",
            "Epoch 4/20\n",
            "469/469 [==============================] - 6s 13ms/step - loss: 0.1019 - accuracy: 0.9703 - val_loss: 0.0811 - val_accuracy: 0.9770\n",
            "Epoch 5/20\n",
            "469/469 [==============================] - 6s 13ms/step - loss: 0.0924 - accuracy: 0.9742 - val_loss: 0.0779 - val_accuracy: 0.9806\n",
            "Epoch 6/20\n",
            "469/469 [==============================] - 6s 13ms/step - loss: 0.0835 - accuracy: 0.9764 - val_loss: 0.0823 - val_accuracy: 0.9804\n",
            "Epoch 7/20\n",
            "469/469 [==============================] - 6s 13ms/step - loss: 0.0786 - accuracy: 0.9776 - val_loss: 0.0841 - val_accuracy: 0.9798\n",
            "Epoch 8/20\n",
            "469/469 [==============================] - 6s 13ms/step - loss: 0.0736 - accuracy: 0.9801 - val_loss: 0.0808 - val_accuracy: 0.9812\n",
            "Epoch 9/20\n",
            "469/469 [==============================] - 6s 13ms/step - loss: 0.0717 - accuracy: 0.9803 - val_loss: 0.0767 - val_accuracy: 0.9828\n",
            "Epoch 10/20\n",
            "469/469 [==============================] - 6s 13ms/step - loss: 0.0662 - accuracy: 0.9818 - val_loss: 0.0783 - val_accuracy: 0.9819\n",
            "Epoch 11/20\n",
            "469/469 [==============================] - 6s 13ms/step - loss: 0.0617 - accuracy: 0.9828 - val_loss: 0.0847 - val_accuracy: 0.9819\n",
            "Epoch 12/20\n",
            "469/469 [==============================] - 6s 13ms/step - loss: 0.0613 - accuracy: 0.9832 - val_loss: 0.0867 - val_accuracy: 0.9820\n",
            "Epoch 13/20\n",
            "469/469 [==============================] - 6s 13ms/step - loss: 0.0593 - accuracy: 0.9843 - val_loss: 0.0874 - val_accuracy: 0.9832\n",
            "Epoch 14/20\n",
            "469/469 [==============================] - 6s 13ms/step - loss: 0.0582 - accuracy: 0.9844 - val_loss: 0.0850 - val_accuracy: 0.9835\n",
            "Epoch 15/20\n",
            "469/469 [==============================] - 6s 13ms/step - loss: 0.0545 - accuracy: 0.9851 - val_loss: 0.0943 - val_accuracy: 0.9814\n",
            "Epoch 16/20\n",
            "469/469 [==============================] - 6s 13ms/step - loss: 0.0571 - accuracy: 0.9850 - val_loss: 0.0847 - val_accuracy: 0.9831\n",
            "Epoch 17/20\n",
            "469/469 [==============================] - 6s 13ms/step - loss: 0.0535 - accuracy: 0.9858 - val_loss: 0.0839 - val_accuracy: 0.9836\n",
            "Epoch 18/20\n",
            "469/469 [==============================] - 6s 13ms/step - loss: 0.0510 - accuracy: 0.9865 - val_loss: 0.0945 - val_accuracy: 0.9821\n",
            "Epoch 19/20\n",
            "469/469 [==============================] - 6s 13ms/step - loss: 0.0502 - accuracy: 0.9863 - val_loss: 0.0993 - val_accuracy: 0.9827\n",
            "Epoch 20/20\n",
            "469/469 [==============================] - 6s 13ms/step - loss: 0.0506 - accuracy: 0.9869 - val_loss: 0.0957 - val_accuracy: 0.9842\n"
          ]
        }
      ],
      "source": [
        "model_2.compile(loss='categorical_crossentropy',\n",
        "              optimizer=RMSprop(lr=0.001),\n",
        "              metrics=['accuracy'])\n",
        "\n",
        "history = model_2.fit(\n",
        "    x_train, y_train,\n",
        "    batch_size=128,\n",
        "    epochs=20, # 20\n",
        "    verbose=1,\n",
        "    validation_data=(x_test, y_test))"
      ]
    },
    {
      "cell_type": "code",
      "source": [
        "plot_loss_accuracy(history)"
      ],
      "metadata": {
        "colab": {
          "base_uri": "https://localhost:8080/",
          "height": 390
        },
        "id": "QLcJNbborFlB",
        "outputId": "6489de2d-c3f3-4469-8bcb-d08845426932"
      },
      "execution_count": 28,
      "outputs": [
        {
          "output_type": "display_data",
          "data": {
            "image/png": "[encoded data removed]",
            "text/plain": [
              "<Figure size 864x432 with 2 Axes>"
            ]
          },
          "metadata": {
            "needs_background": "light"
          }
        }
      ]
    },
    {
      "cell_type": "markdown",
      "metadata": {
        "collapsed": true,
        "id": "ITFuGyjoqspg"
      },
      "source": [
        "## Think about the following questions\n",
        "\n",
        "1) How do model_1 and model_2 compare? Which do you prefer? If you were going to put one into production, which would you choose and why?\n",
        "\n",
        "2) Compare the trajectories of the loss function on the training set and test set for each model? How do they compare? What does that suggest about each model? Do the same for accuracy? Which do you think is more meaningful, the loss or the accuracy?\n",
        "\n",
        "3) Suggest an improvement to one of the models (changing structure, learning rate, number of epochs, etc.) that you think will result in a better model. Try it out below? Did it improve the performance?"
      ]
    },
    {
      "cell_type": "markdown",
      "source": [
        "1) O segundo modelo atingiu o overfit mais rapidamente, porem atingiu Validation Loss menor que o primeiro modelo antes do overfit. O primeiro modelo convergiu mais lentamente e demorou mais para atingir o overfit, porém o valor do cross_entropy loss para seu melhor resultado antes do overfit é pior que o do segundo modelo. Para meu sistema de produção eu escolheria o segundo modelo pois apesar de atingir overfeat muito rapido ele apresenta o melhor resultado e o resultado é atingido mais rapidamente.\n",
        "\n",
        "2) Para o primeiro modelo a função loss tem menos variação e converge mais lentamente, para o segundo modelo a função loss varia bem mais e o Validation Loss ultrapassa o Train Loss muito mais rapidamente que no primeiro modelo, porém os valores atingidos por ele são mais baixo pra ambas as retas. Isso sugere que o segundo modelo tem taxa de erro menos que o primeiro modelo, mas que ele atinge overfit mais rapidamente. Para a acuracia em ambos os modelos foi alta, no segundo modelo ela apresentou valores mais altos e maior variação, sua reta de Train Accuracy ultrapassou rapidamente a de Validation Accuracy e ficou bem maior e já no primeiro modelo ambas se mantiveram bem proximas. Tendo em vista a analise dos dados a medida de Log Loss é bem mais significativa para a analise entre esse dois modelos.\n",
        "\n",
        "3) Para o segundo modelo eu diminuiria a quantidade de epocas para 6 pois é quando temos o melhor resultado e para o primeiro modelo eu aumentaria a taxa de aprendizado porem mesmo após teste eu não consegui resultados melhores que os do segundo modelo."
      ],
      "metadata": {
        "id": "1ZZhtff0rKel"
      }
    }
  ],
  "metadata": {
    "kernelspec": {
      "display_name": "Python 3",
      "language": "python",
      "name": "python3"
    },
    "language_info": {
      "codemirror_mode": {
        "name": "ipython",
        "version": 3
      },
      "file_extension": ".py",
      "mimetype": "text/x-python",
      "name": "python",
      "nbconvert_exporter": "python",
      "pygments_lexer": "ipython3",
      "version": "3.8.10"
    },
    "colab": {
      "name": "Keras_MNIST_HW.ipynb",
      "provenance": []
    }
  },
  "nbformat": 4,
  "nbformat_minor": 0
}